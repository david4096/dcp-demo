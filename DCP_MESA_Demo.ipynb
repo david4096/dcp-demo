{
 "cells": [
  {
   "cell_type": "markdown",
   "metadata": {},
   "source": [
    "# Data Commons Pilot - TOPMed MESA Data Analysis demo"
   ]
  },
  {
   "cell_type": "markdown",
   "metadata": {},
   "source": [
    "This demo shows some data visualization and data analysis procedures by interacting with the Gen3 Data Commons provided for the Data Commons Pilot (DCP) project. \n",
    "\n",
    "More specifically, the demo is focused on the TOPMed project entitled:\n",
    "\n",
    "\"Multi-Ethnic Study of Atherosclerosis (MESA)\"\n",
    "(https://www.ncbi.nlm.nih.gov/projects/gap/cgi-bin/study.cgi?study_id=phs000209.v13.p3)"
   ]
  },
  {
   "cell_type": "markdown",
   "metadata": {},
   "source": [
    "## DATA EXPLORATION: High-level Python library based on GraphQL queries"
   ]
  },
  {
   "cell_type": "markdown",
   "metadata": {},
   "source": [
    "Install required Python packages. Import library with pipeline functions and GraphQL queries as well as our credentials:"
   ]
  },
  {
   "cell_type": "code",
   "execution_count": null,
   "metadata": {},
   "outputs": [],
   "source": [
    "%matplotlib inline\n",
    "!pip install matplotlib\n",
    "!pip install lifelines\n",
    "import dcp_analysis_functions as dcp\n",
    "dcp.add_keys('credentials.json')"
   ]
  },
  {
   "cell_type": "markdown",
   "metadata": {},
   "source": [
    "### Get summary metrics for each data type in the data-model for one project:"
   ]
  },
  {
   "cell_type": "code",
   "execution_count": null,
   "metadata": {},
   "outputs": [],
   "source": [
    "dcp.query_summary_counts('topmed-MESA')"
   ]
  },
  {
   "cell_type": "markdown",
   "metadata": {},
   "source": [
    "### Get summary counts per field across all projects or for specific project:"
   ]
  },
  {
   "cell_type": "code",
   "execution_count": null,
   "metadata": {},
   "outputs": [],
   "source": [
    "gender_counts = dcp.query_summary_field('gender', 'demographic')\n",
    "race_counts = dcp.query_summary_field('race', 'demographic')\n",
    "age_counts = dcp.query_summary_field('age_range', 'demographic')\n",
    "ht_counts = dcp.query_summary_field('hypertension_stage', 'diagnosis', 'topmed-MESA')"
   ]
  },
  {
   "cell_type": "markdown",
   "metadata": {},
   "source": [
    "### Get field distribution for one variable:"
   ]
  },
  {
   "cell_type": "markdown",
   "metadata": {},
   "source": [
    "Visualize distribution of cholesterol levels in subjects:"
   ]
  },
  {
   "cell_type": "code",
   "execution_count": null,
   "metadata": {},
   "outputs": [],
   "source": [
    "distribution = dcp.field_distribution('chol1','lab_result', 'topmed-MESA')"
   ]
  },
  {
   "cell_type": "markdown",
   "metadata": {},
   "source": [
    "## DATA ANALISIS: TOPMed MESA Data Project"
   ]
  },
  {
   "cell_type": "markdown",
   "metadata": {},
   "source": [
    "This data analysis shows some preliminary results over TOPMed MESA project data reproduced using the following published studies: \n",
    "\n",
    "[1] Jean L. Olson, Diane E. Bild, Richard A. Kronmal, Gregory L. Burke (2016). Legacy of MESA. Global Heart, 11(3), 269-274.\n",
    "https://www.sciencedirect.com/science/article/pii/S2211816016307098 (Table 1, MESA recruiment study)\n",
    "\n",
    "\n",
    "[2] Blaha, M. J., Yeboah, J., Al Rifai, M., Liu, K. J., Kronmal, R., & Greenland, P. (2016). The Legacy of MESA – Providing Evidence for Subclinical Cardiovascular Disease in Risk Assessment. Global Heart, 11(3), 275–285.\n",
    "http://doi.org/10.1016/j.gheart.2016.08.003 (Figure 2, Kaplan-Meier cumulative-event curves for coronary events)"
   ]
  },
  {
   "cell_type": "code",
   "execution_count": null,
   "metadata": {},
   "outputs": [],
   "source": [
    "project = 'topmed-MESA'"
   ]
  },
  {
   "cell_type": "markdown",
   "metadata": {},
   "source": [
    "### Recruitment summary based on demographic variables (gender, race, age range):"
   ]
  },
  {
   "cell_type": "markdown",
   "metadata": {},
   "source": [
    "Quoting from [1]: \"*MESA sampling was to obtain balanced recruitment across strata defined by sex, ethnicity, and age group rather than to represent the demographic distribution*\". \n",
    "\n",
    "This distribution based on gender, age group and race can be observed in the following line chart:"
   ]
  },
  {
   "cell_type": "code",
   "execution_count": null,
   "metadata": {},
   "outputs": [],
   "source": [
    "dcp.demographic_study(project)"
   ]
  },
  {
   "cell_type": "markdown",
   "metadata": {},
   "source": [
    "### Kaplan-Meier curves for coronary events:"
   ]
  },
  {
   "cell_type": "markdown",
   "metadata": {},
   "source": [
    "Coronary Artery Calcium (CAC) scores are clearly associated to a graded increase risk of both hard and all CHD events [2]. Thes is shown in the following Kaplan-Meier survival curves based on CAC ranges:"
   ]
  },
  {
   "cell_type": "code",
   "execution_count": null,
   "metadata": {},
   "outputs": [],
   "source": [
    "times = dcp.calcium_score_survival('frncep1c', project, \"Coronary Artery Calcium (CAC) Kaplan-Meier\")"
   ]
  },
  {
   "cell_type": "code",
   "execution_count": null,
   "metadata": {},
   "outputs": [],
   "source": []
  }
 ],
 "metadata": {
  "anaconda-cloud": {},
  "kernelspec": {
   "display_name": "Python 3",
   "language": "python",
   "name": "python3"
  },
  "language_info": {
   "codemirror_mode": {
    "name": "ipython",
    "version": 3
   },
   "file_extension": ".py",
   "mimetype": "text/x-python",
   "name": "python",
   "nbconvert_exporter": "python",
   "pygments_lexer": "ipython3",
   "version": "3.6.3"
  }
 },
 "nbformat": 4,
 "nbformat_minor": 2
}
