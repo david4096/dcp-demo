{
 "cells": [
  {
   "cell_type": "markdown",
   "metadata": {},
   "source": [
    "# Export Arbitrary Metadata from DCP\n",
    "\n",
    "The sheepdog submission tracking software makes it easy to see what has been loaded into the DCP platform.\n"
   ]
  },
  {
   "cell_type": "markdown",
   "metadata": {},
   "source": [
    "## List the Metadata Dictionary by Project"
   ]
  },
  {
   "cell_type": "code",
   "execution_count": 15,
   "metadata": {},
   "outputs": [
    {
     "name": "stdout",
     "output_type": "stream",
     "text": [
      "{u'links': [u'/v0/submission/topmed/public/_dictionary/medication', u'/v0/submission/topmed/public/_dictionary/electrocardiogram_test', u'/v0/submission/topmed/public/_dictionary/aggregated_snp_array', u'/v0/submission/topmed/public/_dictionary/medical_history', u'/v0/submission/topmed/public/_dictionary/sample', u'/v0/submission/topmed/public/_dictionary/psychosocial_questionnaire', u'/v0/submission/topmed/public/_dictionary/death_record', u'/v0/submission/topmed/public/_dictionary/simple_germline_variation', u'/v0/submission/topmed/public/_dictionary/core_metadata', u'/v0/submission/topmed/public/_dictionary/primary_history', u'/v0/submission/topmed/public/_dictionary/read_group_qc', u'/v0/submission/topmed/public/_dictionary/data_collection', u'/v0/submission/topmed/public/_dictionary/publication', u'/v0/submission/topmed/public/_dictionary/cardiac_ct_scan', u'/v0/submission/topmed/public/_dictionary/demographic', u'/v0/submission/topmed/public/_dictionary/copy_number_workflow', u'/v0/submission/topmed/public/_dictionary/lab_result', u'/v0/submission/topmed/public/_dictionary/program', u'/v0/submission/topmed/public/_dictionary/treatment', u'/v0/submission/topmed/public/_dictionary/data_release', u'/v0/submission/topmed/public/_dictionary/allele_expression', u'/v0/submission/topmed/public/_dictionary/alignment_cocleaning_workflow', u'/v0/submission/topmed/public/_dictionary/snp_array_variation', u'/v0/submission/topmed/public/_dictionary/aliquot', u'/v0/submission/topmed/public/_dictionary/blood_pressure_test', u'/v0/submission/topmed/public/_dictionary/read_group', u'/v0/submission/topmed/public/_dictionary/aligned_reads', u'/v0/submission/topmed/public/_dictionary/gene_expression', u'/v0/submission/topmed/public/_dictionary/submitted_unaligned_reads', u'/v0/submission/topmed/public/_dictionary/aligned_reads_index', u'/v0/submission/topmed/public/_dictionary/submitted_snp_array', u'/v0/submission/topmed/public/_dictionary/physical_activity_questionnaire', u'/v0/submission/topmed/public/_dictionary/exon_expression', u'/v0/submission/topmed/public/_dictionary/exposure', u'/v0/submission/topmed/public/_dictionary/case', u'/v0/submission/topmed/public/_dictionary/socio_demo_questionnaire', u'/v0/submission/topmed/public/_dictionary/keyword', u'/v0/submission/topmed/public/_dictionary/transcript_expression', u'/v0/submission/topmed/public/_dictionary/acknowledgement', u'/v0/submission/topmed/public/_dictionary/rna_expression_workflow', u'/v0/submission/topmed/public/_dictionary/study', u'/v0/submission/topmed/public/_dictionary/alignment_workflow', u'/v0/submission/topmed/public/_dictionary/carotid_ultrasound_test', u'/v0/submission/topmed/public/_dictionary/snp_array_workflow', u'/v0/submission/topmed/public/_dictionary/project', u'/v0/submission/topmed/public/_dictionary/submitted_aligned_reads', u'/v0/submission/topmed/public/_dictionary/submitted_cnv_array', u'/v0/submission/topmed/public/_dictionary/germline_mutation_calling_workflow', u'/v0/submission/topmed/public/_dictionary/diagnosis', u'/v0/submission/topmed/public/_dictionary/cardiac_mri', u'/v0/submission/topmed/public/_dictionary/root', u'/v0/submission/topmed/public/_dictionary/body_storage', u'/v0/submission/topmed/public/_dictionary/copy_number_variation', u'/v0/submission/topmed/public/_dictionary/_all']}\n"
     ]
    }
   ],
   "source": [
    "import dcp_analysis_functions as dcp\n",
    "dcp.add_keys('credentials.json')\n",
    "\n",
    "base_url = \"https://dcp.bionimbus.org/api/v0/submission\"\n",
    "program_name = \"topmed\"\n",
    "project_name = \"public\"\n",
    "\n",
    "def get_dictionary(program, project):\n",
    "    return requests.get('{}/{}/{}/_dictionary'.format(base_url, program, project), headers={'Authorization': 'bearer '+ dcp.auth.json()['access_token']}).json()\n",
    "\n",
    "print(get_dictionary(program_name, project_name))"
   ]
  },
  {
   "cell_type": "markdown",
   "metadata": {},
   "source": [
    "## Get the JSON Schema for a metadata type\n",
    "\n",
    "Using the DCP you can get the JSON schema to validate metadata entries."
   ]
  },
  {
   "cell_type": "code",
   "execution_count": 18,
   "metadata": {},
   "outputs": [],
   "source": [
    "def get_schema_for_type(program, project, my_type):\n",
    "    return requests.get('{}/{}/{}/_dictionary/{}'.format(base_url, program, project, my_type), headers={'Authorization': 'bearer '+ dcp.auth.json()['access_token']}).json()"
   ]
  },
  {
   "cell_type": "code",
   "execution_count": 85,
   "metadata": {},
   "outputs": [
    {
     "data": {
      "text/plain": [
       "[u'osbse1',\n",
       " u'submitter_id',\n",
       " u'apoea11',\n",
       " u'odbsd1',\n",
       " u'oaormx1',\n",
       " u'odapf1',\n",
       " u'lungmss1',\n",
       " u'massnd1',\n",
       " u'osapc1',\n",
       " u'project_id',\n",
       " u'osbsd1',\n",
       " u'r6wm1',\n",
       " u'odmda1',\n",
       " u'olvef1',\n",
       " u'odbse1',\n",
       " u'apoea21',\n",
       " u'olvsv1t',\n",
       " u'globscr1',\n",
       " u'omassv1',\n",
       " u'postdia1',\n",
       " u'osapb1',\n",
       " u'osmdf1',\n",
       " u'lvedd1c',\n",
       " u'r7wm1',\n",
       " u'odmdf1',\n",
       " u'r12wm1',\n",
       " u'odbsf1',\n",
       " u'olvedm1t',\n",
       " u'osmde1',\n",
       " u'created_datetime',\n",
       " u'odapd1',\n",
       " u'r4wm1',\n",
       " u'r15wm1',\n",
       " u'osapa1',\n",
       " u'state',\n",
       " u'refstat1',\n",
       " u'predia1',\n",
       " u'olvsv1',\n",
       " u'aneursm1',\n",
       " u'crdout1c',\n",
       " u'perieff1',\n",
       " u'pheval1',\n",
       " u'othalrt1',\n",
       " u'osmdd1',\n",
       " u'mripp1',\n",
       " u'odape1',\n",
       " u'ppa_101',\n",
       " u'olvesv1',\n",
       " u'osbsa1',\n",
       " u'osv1',\n",
       " u'r3wm1',\n",
       " u'postsys1',\n",
       " u'olvesv1t',\n",
       " u'updated_datetime',\n",
       " u'r16wm1',\n",
       " u'oardis1',\n",
       " u'osbsf1',\n",
       " u'osmdc1',\n",
       " u'r10wm1',\n",
       " u'type',\n",
       " u'odapb1',\n",
       " u'olvedv1t',\n",
       " u'aad1c',\n",
       " u'cases',\n",
       " u'datrcvd1',\n",
       " u'olvef1t',\n",
       " u'odbsa1',\n",
       " u'osmdb1',\n",
       " u'odmdd1',\n",
       " u'osapf1',\n",
       " u'r8wm1',\n",
       " u'odapc1',\n",
       " u'ovpm1',\n",
       " u'r2wm1',\n",
       " u'osbsc1',\n",
       " u'odmdb1',\n",
       " u'presys1',\n",
       " u'id',\n",
       " u'osape1',\n",
       " u'odbsb1',\n",
       " u'olvedv1',\n",
       " u'apoeig1',\n",
       " u'osmda1',\n",
       " u'odmde1',\n",
       " u'rm_101',\n",
       " u'r1wm1',\n",
       " u'bnsftts1',\n",
       " u'rchrtrt1',\n",
       " u'oavflw1',\n",
       " u'odmdc1',\n",
       " u'osbsb1',\n",
       " u'lvh1',\n",
       " u'r5wm1',\n",
       " u'odbsc1',\n",
       " u'aix_ao_101',\n",
       " u'olvedm1',\n",
       " u'oaormn1',\n",
       " u'osapd1',\n",
       " u'r11wm1',\n",
       " u'r14wm1',\n",
       " u'odapa1',\n",
       " u'r13wm1',\n",
       " u'mlvwall1c',\n",
       " u'r9wm1']"
      ]
     },
     "execution_count": 85,
     "metadata": {},
     "output_type": "execute_result"
    }
   ],
   "source": [
    "get_schema_for_type('topmed', 'public', 'cardiac_mri')['properties'].keys()"
   ]
  },
  {
   "cell_type": "markdown",
   "metadata": {},
   "source": [
    "## Getting Metadata for each Type\n",
    "\n",
    "Now that we know all the types in the metadata dictionary for a given program and project, we can get the submissions for each."
   ]
  },
  {
   "cell_type": "code",
   "execution_count": 38,
   "metadata": {},
   "outputs": [],
   "source": [
    "def get_submissions_by_type(program, project, my_type):\n",
    "    \n",
    "    url = '{}/{}/{}/export/?node_label={}'.format(base_url, program, project, my_type)\n",
    "    # FIXME returns a TSV\n",
    "    return requests.get(url, headers={'Authorization': 'bearer '+ dcp.auth.json()['access_token']}).content"
   ]
  },
  {
   "cell_type": "code",
   "execution_count": 84,
   "metadata": {},
   "outputs": [
    {
     "data": {
      "text/plain": [
       "'type\\tid\\tproject_id\\tsubmitter_id\\tdata_category\\tdata_format\\tdata_type\\texperimental_strategy\\tfile_name\\tfile_size\\tmd5sum\\tcore_metadata_records.id\\tcore_metadata_records.submitter_id\\tread_groups.id#1\\tread_groups.submitter_id#1\\nsubmitted_aligned_reads\\t7733b6cb-811f-5839-a5dc-ac4262ded126\\ttopmed-public\\tNWD100953-cram\\tSequencing Reads\\tCRAM\\tAligned Reads\\tWGS\\tNWD100953.recab.cram\\t37501686827\\tf9e72bdf25bf4b4f0e581d9218fec2eb\\t76c66ee2-f0a7-455b-af2f-57461129c9c5\\tNWD100953-cram-core-metadata\\t4dd92bb3-4e67-41f'"
      ]
     },
     "execution_count": 84,
     "metadata": {},
     "output_type": "execute_result"
    }
   ],
   "source": [
    "get_submissions_by_type('topmed', 'public', 'submitted_aligned_reads')[0:500]"
   ]
  },
  {
   "cell_type": "markdown",
   "metadata": {},
   "source": [
    "### Coercing to JSON\n",
    "\n",
    "As a workaround to a current problem in the DCP serialization, we convert the TSV contents back to a dictionary.\n",
    "\n"
   ]
  },
  {
   "cell_type": "code",
   "execution_count": 56,
   "metadata": {},
   "outputs": [],
   "source": [
    "import csv\n",
    "from StringIO import StringIO\n",
    "\n",
    "def get_json_submission_by_type(program, project, my_type):\n",
    "    buf = StringIO(get_submissions_by_type(program, project, my_type))\n",
    "    reader = csv.DictReader(buf, delimiter='\\t')\n",
    "    return list(reader)"
   ]
  },
  {
   "cell_type": "code",
   "execution_count": 81,
   "metadata": {},
   "outputs": [
    {
     "data": {
      "text/plain": [
       "{'core_metadata_records.id': '76c66ee2-f0a7-455b-af2f-57461129c9c5',\n",
       " 'core_metadata_records.submitter_id': 'NWD100953-cram-core-metadata',\n",
       " 'data_category': 'Sequencing Reads',\n",
       " 'data_format': 'CRAM',\n",
       " 'data_type': 'Aligned Reads',\n",
       " 'experimental_strategy': 'WGS',\n",
       " 'file_name': 'NWD100953.recab.cram',\n",
       " 'file_size': '37501686827',\n",
       " 'id': '7733b6cb-811f-5839-a5dc-ac4262ded126',\n",
       " 'md5sum': 'f9e72bdf25bf4b4f0e581d9218fec2eb',\n",
       " 'project_id': 'topmed-public',\n",
       " 'read_groups.id#1': '4dd92bb3-4e67-41fd-a5c1-37e30155c208',\n",
       " 'read_groups.submitter_id#1': 'NWD100953-rg',\n",
       " 'submitter_id': 'NWD100953-cram',\n",
       " 'type': 'submitted_aligned_reads'}"
      ]
     },
     "execution_count": 81,
     "metadata": {},
     "output_type": "execute_result"
    }
   ],
   "source": [
    "get_json_submission_by_type('topmed', 'public', 'submitted_aligned_reads')[0]"
   ]
  },
  {
   "cell_type": "markdown",
   "metadata": {},
   "source": [
    "## Selecting all the fields for export\n",
    "\n",
    "We can now create a function that will export all of the fields types for us."
   ]
  },
  {
   "cell_type": "code",
   "execution_count": 58,
   "metadata": {},
   "outputs": [],
   "source": [
    "import os\n",
    "\n",
    "def get_all_submissions(program, project):\n",
    "    return_dictionary = {}\n",
    "    submission_dictionary = get_dictionary(program, project)\n",
    "    for link in submission_dictionary['links']:\n",
    "        my_type = os.path.basename(link)\n",
    "        return_dictionary[link] = get_json_submission_by_type(program, project, my_type)\n",
    "    return return_dictionary"
   ]
  },
  {
   "cell_type": "code",
   "execution_count": 59,
   "metadata": {},
   "outputs": [
    {
     "name": "stdout",
     "output_type": "stream",
     "text": [
      "CPU times: user 704 ms, sys: 24 ms, total: 728 ms\n",
      "Wall time: 27.3 s\n"
     ]
    }
   ],
   "source": [
    "%time all_fields = get_all_submissions('topmed', 'public')"
   ]
  },
  {
   "cell_type": "code",
   "execution_count": 80,
   "metadata": {},
   "outputs": [
    {
     "data": {
      "text/plain": [
       "{'core_metadata_records.id': '76c66ee2-f0a7-455b-af2f-57461129c9c5',\n",
       " 'core_metadata_records.submitter_id': 'NWD100953-cram-core-metadata',\n",
       " 'data_category': 'Sequencing Reads',\n",
       " 'data_format': 'CRAM',\n",
       " 'data_type': 'Aligned Reads',\n",
       " 'experimental_strategy': 'WGS',\n",
       " 'file_name': 'NWD100953.recab.cram',\n",
       " 'file_size': '37501686827',\n",
       " 'id': '7733b6cb-811f-5839-a5dc-ac4262ded126',\n",
       " 'md5sum': 'f9e72bdf25bf4b4f0e581d9218fec2eb',\n",
       " 'project_id': 'topmed-public',\n",
       " 'read_groups.id#1': '4dd92bb3-4e67-41fd-a5c1-37e30155c208',\n",
       " 'read_groups.submitter_id#1': 'NWD100953-rg',\n",
       " 'submitter_id': 'NWD100953-cram',\n",
       " 'type': 'submitted_aligned_reads'}"
      ]
     },
     "execution_count": 80,
     "metadata": {},
     "output_type": "execute_result"
    }
   ],
   "source": [
    "all_fields['/v0/submission/topmed/public/_dictionary/submitted_aligned_reads'][0]"
   ]
  },
  {
   "cell_type": "markdown",
   "metadata": {},
   "source": [
    "Since there are dictionary items for each metadata type, it should be possible to use annotate entries with their schema, however, since the serialization goes through TSV that is left for future work."
   ]
  },
  {
   "cell_type": "markdown",
   "metadata": {},
   "source": [
    "## Getting Metadata for Another Project\n",
    "\n",
    "We can use the same functions to access metadata from other projects."
   ]
  },
  {
   "cell_type": "code",
   "execution_count": 75,
   "metadata": {},
   "outputs": [
    {
     "name": "stdout",
     "output_type": "stream",
     "text": [
      "CPU times: user 2.2 s, sys: 608 ms, total: 2.8 s\n",
      "Wall time: 59.1 s\n"
     ]
    }
   ],
   "source": [
    "%time gtex_metadata = get_all_submissions('gtex', 'GTEx-v7')"
   ]
  },
  {
   "cell_type": "code",
   "execution_count": 76,
   "metadata": {},
   "outputs": [
    {
     "data": {
      "text/plain": [
       "[u'/v0/submission/gtex/GTEx-v7/_dictionary/exposure',\n",
       " u'/v0/submission/gtex/GTEx-v7/_dictionary/carotid_ultrasound_test',\n",
       " u'/v0/submission/gtex/GTEx-v7/_dictionary/psychosocial_questionnaire',\n",
       " u'/v0/submission/gtex/GTEx-v7/_dictionary/diagnosis',\n",
       " u'/v0/submission/gtex/GTEx-v7/_dictionary/demographic',\n",
       " u'/v0/submission/gtex/GTEx-v7/_dictionary/blood_pressure_test',\n",
       " u'/v0/submission/gtex/GTEx-v7/_dictionary/allele_expression',\n",
       " u'/v0/submission/gtex/GTEx-v7/_dictionary/aligned_reads_index',\n",
       " u'/v0/submission/gtex/GTEx-v7/_dictionary/read_group',\n",
       " u'/v0/submission/gtex/GTEx-v7/_dictionary/physical_activity_questionnaire',\n",
       " u'/v0/submission/gtex/GTEx-v7/_dictionary/program',\n",
       " u'/v0/submission/gtex/GTEx-v7/_dictionary/exon_expression',\n",
       " u'/v0/submission/gtex/GTEx-v7/_dictionary/sample',\n",
       " u'/v0/submission/gtex/GTEx-v7/_dictionary/snp_array_variation',\n",
       " u'/v0/submission/gtex/GTEx-v7/_dictionary/socio_demo_questionnaire',\n",
       " u'/v0/submission/gtex/GTEx-v7/_dictionary/root',\n",
       " u'/v0/submission/gtex/GTEx-v7/_dictionary/alignment_cocleaning_workflow',\n",
       " u'/v0/submission/gtex/GTEx-v7/_dictionary/lab_result',\n",
       " u'/v0/submission/gtex/GTEx-v7/_dictionary/alignment_workflow',\n",
       " u'/v0/submission/gtex/GTEx-v7/_dictionary/treatment',\n",
       " u'/v0/submission/gtex/GTEx-v7/_dictionary/submitted_cnv_array',\n",
       " u'/v0/submission/gtex/GTEx-v7/_dictionary/acknowledgement',\n",
       " u'/v0/submission/gtex/GTEx-v7/_dictionary/aligned_reads',\n",
       " u'/v0/submission/gtex/GTEx-v7/_dictionary/_all',\n",
       " u'/v0/submission/gtex/GTEx-v7/_dictionary/aggregated_snp_array',\n",
       " u'/v0/submission/gtex/GTEx-v7/_dictionary/copy_number_variation',\n",
       " u'/v0/submission/gtex/GTEx-v7/_dictionary/copy_number_workflow',\n",
       " u'/v0/submission/gtex/GTEx-v7/_dictionary/transcript_expression',\n",
       " u'/v0/submission/gtex/GTEx-v7/_dictionary/submitted_snp_array',\n",
       " u'/v0/submission/gtex/GTEx-v7/_dictionary/snp_array_workflow',\n",
       " u'/v0/submission/gtex/GTEx-v7/_dictionary/project',\n",
       " u'/v0/submission/gtex/GTEx-v7/_dictionary/core_metadata',\n",
       " u'/v0/submission/gtex/GTEx-v7/_dictionary/simple_germline_variation',\n",
       " u'/v0/submission/gtex/GTEx-v7/_dictionary/cardiac_ct_scan',\n",
       " u'/v0/submission/gtex/GTEx-v7/_dictionary/medication',\n",
       " u'/v0/submission/gtex/GTEx-v7/_dictionary/data_collection',\n",
       " u'/v0/submission/gtex/GTEx-v7/_dictionary/case',\n",
       " u'/v0/submission/gtex/GTEx-v7/_dictionary/aliquot',\n",
       " u'/v0/submission/gtex/GTEx-v7/_dictionary/rna_expression_workflow',\n",
       " u'/v0/submission/gtex/GTEx-v7/_dictionary/primary_history',\n",
       " u'/v0/submission/gtex/GTEx-v7/_dictionary/body_storage',\n",
       " u'/v0/submission/gtex/GTEx-v7/_dictionary/death_record',\n",
       " u'/v0/submission/gtex/GTEx-v7/_dictionary/data_release',\n",
       " u'/v0/submission/gtex/GTEx-v7/_dictionary/publication',\n",
       " u'/v0/submission/gtex/GTEx-v7/_dictionary/gene_expression',\n",
       " u'/v0/submission/gtex/GTEx-v7/_dictionary/read_group_qc',\n",
       " u'/v0/submission/gtex/GTEx-v7/_dictionary/cardiac_mri',\n",
       " u'/v0/submission/gtex/GTEx-v7/_dictionary/keyword',\n",
       " u'/v0/submission/gtex/GTEx-v7/_dictionary/study',\n",
       " u'/v0/submission/gtex/GTEx-v7/_dictionary/germline_mutation_calling_workflow',\n",
       " u'/v0/submission/gtex/GTEx-v7/_dictionary/medical_history',\n",
       " u'/v0/submission/gtex/GTEx-v7/_dictionary/submitted_unaligned_reads',\n",
       " u'/v0/submission/gtex/GTEx-v7/_dictionary/submitted_aligned_reads',\n",
       " u'/v0/submission/gtex/GTEx-v7/_dictionary/electrocardiogram_test']"
      ]
     },
     "execution_count": 76,
     "metadata": {},
     "output_type": "execute_result"
    }
   ],
   "source": [
    "gtex_metadata.keys()"
   ]
  },
  {
   "cell_type": "code",
   "execution_count": 79,
   "metadata": {},
   "outputs": [
    {
     "name": "stdout",
     "output_type": "stream",
     "text": [
      "['pathology_notes', 'biospecimen_anatomic_site', 'internal_notes', 'submitter_id', 'hours_to_collection', 'prosector_notes', 'id', 'collection_kit', 'biospecimen_anatomic_site_uberon_term', 'sample_type', 'autolysis_score', 'cases.id', 'project_id', 'current_weight', 'composition', 'cases.submitter_id', 'oct_embedded', 'is_ffpe', 'biospecimen_anatomic_site_detail', 'method_of_sample_procurement', 'tissue_type', 'collection_site', 'freezing_method', 'biospecimen_physical_site', 'biospecimen_type', 'type', 'preservation_method', 'biospecimen_anatomic_site_uberon_id', 'hours_to_sample_procurement']\n"
     ]
    }
   ],
   "source": [
    "print(gtex_metadata['/v0/submission/gtex/GTEx-v7/_dictionary/sample'][0].keys())"
   ]
  },
  {
   "cell_type": "code",
   "execution_count": null,
   "metadata": {},
   "outputs": [],
   "source": []
  }
 ],
 "metadata": {
  "kernelspec": {
   "display_name": "Python 2",
   "language": "python",
   "name": "python2"
  },
  "language_info": {
   "codemirror_mode": {
    "name": "ipython",
    "version": 2
   },
   "file_extension": ".py",
   "mimetype": "text/x-python",
   "name": "python",
   "nbconvert_exporter": "python",
   "pygments_lexer": "ipython2",
   "version": "2.7.12+"
  }
 },
 "nbformat": 4,
 "nbformat_minor": 2
}
