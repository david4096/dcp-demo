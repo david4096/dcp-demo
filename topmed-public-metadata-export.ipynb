{
 "cells": [
  {
   "cell_type": "markdown",
   "metadata": {},
   "source": [
    "# Data Commons Pilot - TOPMed Public Metadata Export"
   ]
  },
  {
   "cell_type": "markdown",
   "metadata": {},
   "source": [
    "This demo shows how metadata can be exported from the gen3 platform."
   ]
  },
  {
   "cell_type": "code",
   "execution_count": 1,
   "metadata": {},
   "outputs": [],
   "source": [
    "%matplotlib inline\n",
    "import dcp_analysis_functions as dcp\n",
    "dcp.add_keys('credentials.json')"
   ]
  },
  {
   "cell_type": "markdown",
   "metadata": {},
   "source": [
    "### Get summary metrics for each data type in the data-model for one project:"
   ]
  },
  {
   "cell_type": "code",
   "execution_count": 2,
   "metadata": {},
   "outputs": [
    {
     "data": {
      "text/html": [
       "<table style><thead><th>Category</th><th>Counts</th></thead><tr><td>Cases</td><td>5</td><tr><tr><td>Studies</td><td>1</td><tr><tr><td>Demographic records</td><td>5</td><tr><tr><td>Diagnosis records</td><td>0</td><tr><tr><td>Exposure records</td><td>0</td><tr><tr><td># Aliquots</td><td>108</td><tr><tr><td># SNP Array Files</td><td>0</td><tr><tr><td># Copy Number Files</td><td>0</td><tr><tr><td># BAM/CRAM Files</td><td>107</td><tr></table>"
      ],
      "text/plain": [
       "{u'_aliquot_count': 108,\n",
       " u'_case_count': 5,\n",
       " u'_copy_number_variation_count': 0,\n",
       " u'_demographic_count': 5,\n",
       " u'_diagnosis_count': 0,\n",
       " u'_exposure_count': 0,\n",
       " u'_study_count': 1,\n",
       " u'_submitted_aligned_reads_count': 107,\n",
       " u'_submitted_snp_array_count': 0}"
      ]
     },
     "execution_count": 2,
     "metadata": {},
     "output_type": "execute_result"
    }
   ],
   "source": [
    "dcp.query_summary_counts('topmed-public')"
   ]
  },
  {
   "cell_type": "markdown",
   "metadata": {},
   "source": [
    "## Get an index of BAM files\n",
    "\n",
    "First, we'll define a query to collect the submitted reads for the Public TOPMed data."
   ]
  },
  {
   "cell_type": "code",
   "execution_count": 3,
   "metadata": {},
   "outputs": [
    {
     "name": "stdout",
     "output_type": "stream",
     "text": [
      "CPU times: user 2.76 s, sys: 104 ms, total: 2.87 s\n",
      "Wall time: 1min 22s\n"
     ]
    }
   ],
   "source": [
    "query = \"\"\"\n",
    "query AlignedReads ($projectID: [String], $first: Int, $offset: Int) \n",
    "    {\n",
    "     submitted_aligned_reads(project_id: $projectID, first: $first, offset: $offset) {\n",
    "        id\n",
    "        file_name\n",
    "        file_size\n",
    "        md5sum\n",
    "        submitter_id\n",
    "        updated_datetime\n",
    "        created_datetime\n",
    "       _links {\n",
    "          id\n",
    "          type\n",
    "        }\n",
    "      }\n",
    "    }\n",
    "\"\"\"\n",
    "variables = {'first': 1, 'offset': 0, 'projectID': 'topmed-public'}\n",
    "dcp.query_api(query, variables)\n",
    "\n",
    "def print_query(query, variables):\n",
    "    response = dcp.query_api(query, variables)\n",
    "    #print(response)\n",
    "    return response\n",
    "\n",
    "pages = [{'first': 1, 'offset': i, 'projectID': 'topmed-public'} for i in range(107)]\n",
    "%time alignments = map(lambda page: print_query(query, page), pages)"
   ]
  },
  {
   "cell_type": "markdown",
   "metadata": {},
   "source": [
    "### Get the indexes for each alignment\n",
    "\n",
    "We'll now make a list of the indices for each alignment as well."
   ]
  },
  {
   "cell_type": "code",
   "execution_count": 4,
   "metadata": {},
   "outputs": [
    {
     "name": "stdout",
     "output_type": "stream",
     "text": [
      "107\n",
      "107\n",
      "CPU times: user 2.67 s, sys: 84 ms, total: 2.76 s\n",
      "Wall time: 1min 2s\n"
     ]
    }
   ],
   "source": [
    "query = query = \"\"\"\n",
    "query ReadIndexes ($id: String) \n",
    "    {\n",
    "     aligned_reads_index(id: $id) {\n",
    "        id\n",
    "        file_name\n",
    "        file_size\n",
    "        md5sum\n",
    "        submitter_id\n",
    "        updated_datetime\n",
    "        created_datetime\n",
    "      }\n",
    "    }\n",
    "\n",
    "\"\"\"\n",
    "variables = {'first': 1, 'offset': 0, 'projectID': 'topmed-public'}\n",
    "\n",
    "index_ids = []\n",
    "\n",
    "for alignment in alignments:\n",
    "    for link in alignment['data']['submitted_aligned_reads'][0]['_links']:\n",
    "        if link['type'] == 'aligned_reads_index':\n",
    "            index_ids.append(link['id'])\n",
    "\n",
    "print(len(alignments))\n",
    "print(len(index_ids))\n",
    "pages = [{'id': x} for x in index_ids]\n",
    "            \n",
    "%time indices = map(lambda page: print_query(query, page), pages)"
   ]
  },
  {
   "cell_type": "markdown",
   "metadata": {},
   "source": [
    "Now that we can get metadata for submitted aligned reads and indices, we can begin to generate a bundle like object that will bring the indices and alignments into a single dictionary."
   ]
  },
  {
   "cell_type": "code",
   "execution_count": 5,
   "metadata": {},
   "outputs": [
    {
     "name": "stdout",
     "output_type": "stream",
     "text": [
      "({u'data': {u'submitted_aligned_reads': [{u'updated_datetime': u'2018-04-15T21:54:21.545596+00:00', u'created_datetime': u'2018-01-30T21:37:29.252021+00:00', u'file_name': u'NWD319341.recab.cram', u'md5sum': u'0044399fa0f9356565c8cc0234217338', u'submitter_id': u'NWD319341-cram', u'_links': [{u'type': u'read_group', u'id': u'337a3f79-2c69-4553-b887-16360d693254'}, {u'type': u'aligned_reads_index', u'id': u'28264de4-93b3-44ba-9a0a-b8a45a4a1a22'}, {u'type': u'alignment_workflow', u'id': u'eb0dd251-f364-4085-9c21-a4a995e0fa15'}, {u'type': u'core_metadata', u'id': u'ea7a44f2-6edc-4f59-85ae-2830bec0e9a4'}], u'file_size': 23438579833, u'id': u'73b12502-f60c-5f81-bd35-b0afc4678759'}]}}, {u'data': {u'aligned_reads_index': [{u'updated_datetime': u'2018-04-14T19:57:36.324661+00:00', u'created_datetime': u'2018-01-30T21:47:17.975531+00:00', u'file_name': u'NWD319341.recab.cram.crai', u'md5sum': u'c5fd2b9973f68840a4d9f155376d009a', u'submitter_id': u'NWD319341-crai', u'file_size': 1429317, u'id': u'28264de4-93b3-44ba-9a0a-b8a45a4a1a22'}]}})\n"
     ]
    }
   ],
   "source": [
    "raw_bundles = zip(alignments, indices)\n",
    "print(raw_bundles[0])"
   ]
  },
  {
   "cell_type": "markdown",
   "metadata": {},
   "source": [
    "## Getting indexd URLs for submissions\n",
    "\n",
    "Now that we have a way of generating the list of alignments to be exported, along with their indices, we also want to provide the cloud URLs where these can be found.\n",
    "\n",
    "We can get these links from indexd using the identifiers gathered from the metadata service above."
   ]
  },
  {
   "cell_type": "markdown",
   "metadata": {},
   "source": [
    "### Find CRAM index IDs by hash\n",
    "\n",
    "Due to a problem when the metadata were loaded, we can not use the above identifiers to access the cram indices. For this reason, we will demonstrate a way to workaround this problem using indexd's \"find by hash feature\".\n",
    "\n",
    "Since the indices were loaded, we can find them by hash and then update our metadata to include the correct identifer. We can then get the proper URLs for each item."
   ]
  },
  {
   "cell_type": "code",
   "execution_count": 6,
   "metadata": {},
   "outputs": [],
   "source": [
    "import requests\n",
    "\n",
    "indexd_url = 'https://dcp.bionimbus.org/index'\n",
    "\n",
    "hashes = [bundle[1]['data']['aligned_reads_index'][0]['md5sum'] for bundle in raw_bundles]"
   ]
  },
  {
   "cell_type": "markdown",
   "metadata": {},
   "source": [
    "We can now request the items one by one and add the metadata to our bundle."
   ]
  },
  {
   "cell_type": "code",
   "execution_count": 7,
   "metadata": {},
   "outputs": [
    {
     "name": "stdout",
     "output_type": "stream",
     "text": [
      "CPU times: user 2.98 s, sys: 72 ms, total: 3.06 s\n",
      "Wall time: 40.4 s\n"
     ]
    }
   ],
   "source": [
    "def get_indexd_id_by_checksum(checksum):\n",
    "    response = requests.get(\"{}/index/?hash=md5:{}\".format(indexd_url, checksum))\n",
    "    return response.json()['ids'][0]\n",
    "\n",
    "%time indexd_ids = [get_indexd_id_by_checksum(chk) for chk in hashes]"
   ]
  },
  {
   "cell_type": "markdown",
   "metadata": {},
   "source": [
    "Now, zipping them together, we'll have all the metadata collected together in a list where each item contains a tuple:\n",
    "\n",
    "```\n",
    "[((alignment_metadata, index_metadata), cram_indexd_ids))...]\n",
    "```\n",
    "\n",
    "So, to get the cloud URLs for each, we ask indexd for the full record. We'll add this as another tuple and overwrite the third tuple, so we'll have two metadata records and two indexd records."
   ]
  },
  {
   "cell_type": "code",
   "execution_count": 8,
   "metadata": {},
   "outputs": [],
   "source": [
    "fixed_bundles = zip(raw_bundles, indexd_ids)"
   ]
  },
  {
   "cell_type": "code",
   "execution_count": 9,
   "metadata": {},
   "outputs": [
    {
     "name": "stdout",
     "output_type": "stream",
     "text": [
      "CPU times: user 5.75 s, sys: 208 ms, total: 5.96 s\n",
      "Wall time: 1min 48s\n"
     ]
    }
   ],
   "source": [
    "def get_indexd_doc(indexd_id):\n",
    "    response = requests.get(\"{}/index/{}\".format(indexd_url, indexd_id))\n",
    "    return response.json()\n",
    "\n",
    "%time indexd_bundles = [(x[0][0], x[0][1], get_indexd_doc(x[1]), get_indexd_doc(x[0][0]['data']['submitted_aligned_reads'][0]['id'])) for x in fixed_bundles]"
   ]
  },
  {
   "cell_type": "markdown",
   "metadata": {},
   "source": [
    "We now have a pretty lengthy document we can flatten and offer as a minimum metadata schema."
   ]
  },
  {
   "cell_type": "code",
   "execution_count": 10,
   "metadata": {},
   "outputs": [
    {
     "name": "stdout",
     "output_type": "stream",
     "text": [
      "({u'data': {u'submitted_aligned_reads': [{u'updated_datetime': u'2018-04-15T21:54:21.545596+00:00', u'created_datetime': u'2018-01-30T21:37:29.252021+00:00', u'file_name': u'NWD319341.recab.cram', u'md5sum': u'0044399fa0f9356565c8cc0234217338', u'submitter_id': u'NWD319341-cram', u'_links': [{u'type': u'read_group', u'id': u'337a3f79-2c69-4553-b887-16360d693254'}, {u'type': u'aligned_reads_index', u'id': u'28264de4-93b3-44ba-9a0a-b8a45a4a1a22'}, {u'type': u'alignment_workflow', u'id': u'eb0dd251-f364-4085-9c21-a4a995e0fa15'}, {u'type': u'core_metadata', u'id': u'ea7a44f2-6edc-4f59-85ae-2830bec0e9a4'}], u'file_size': 23438579833, u'id': u'73b12502-f60c-5f81-bd35-b0afc4678759'}]}}, {u'data': {u'aligned_reads_index': [{u'updated_datetime': u'2018-04-14T19:57:36.324661+00:00', u'created_datetime': u'2018-01-30T21:47:17.975531+00:00', u'file_name': u'NWD319341.recab.cram.crai', u'md5sum': u'c5fd2b9973f68840a4d9f155376d009a', u'submitter_id': u'NWD319341-crai', u'file_size': 1429317, u'id': u'28264de4-93b3-44ba-9a0a-b8a45a4a1a22'}]}}, {u'updated_date': u'2018-01-30T02:58:58.521537', u'baseid': u'c33758d3-68b2-4d5d-9b02-a704c4bead26', u'form': u'object', u'did': u'16664d78-b05e-56d3-8589-7d155eb2b3ef', u'file_name': None, u'rev': u'435cc81a', u'acl': [], u'urls_metadata': {u'gs://cgp-commons-multi-region-public/topmed_open_access/a4e58dc1-3425-54cf-bbe7-64dc01679da3/NWD319341.recab.cram.crai': {}, u's3://cgp-commons-public/topmed_open_access/a4e58dc1-3425-54cf-bbe7-64dc01679da3/NWD319341.recab.cram.crai': {}}, u'version': None, u'urls': [u'gs://cgp-commons-multi-region-public/topmed_open_access/a4e58dc1-3425-54cf-bbe7-64dc01679da3/NWD319341.recab.cram.crai', u's3://cgp-commons-public/topmed_open_access/a4e58dc1-3425-54cf-bbe7-64dc01679da3/NWD319341.recab.cram.crai'], u'created_date': u'2018-01-30T02:58:58.521528', u'hashes': {u'md5': u'c5fd2b9973f68840a4d9f155376d009a'}, u'size': 1429317, u'metadata': {}}, {u'updated_date': u'2018-04-15T22:29:19.458472', u'baseid': u'6fa56c4b-053b-4735-bcd7-79e0dc2cada0', u'form': u'object', u'did': u'73b12502-f60c-5f81-bd35-b0afc4678759', u'file_name': None, u'rev': u'c8287717', u'acl': [u'topmed', u'public'], u'urls_metadata': {u's3://cgp-commons-public/topmed_open_access/a4e58dc1-3425-54cf-bbe7-64dc01679da3/NWD319341.recab.cram': {}, u'gs://cgp-commons-multi-region-public/topmed_open_access/a4e58dc1-3425-54cf-bbe7-64dc01679da3/NWD319341.recab.cram': {}}, u'version': None, u'urls': [u'gs://cgp-commons-multi-region-public/topmed_open_access/a4e58dc1-3425-54cf-bbe7-64dc01679da3/NWD319341.recab.cram', u's3://cgp-commons-public/topmed_open_access/a4e58dc1-3425-54cf-bbe7-64dc01679da3/NWD319341.recab.cram'], u'created_date': u'2018-04-15T22:29:19.458462', u'hashes': {u'md5': u'0044399fa0f9356565c8cc0234217338'}, u'size': 23438579833, u'metadata': {}})\n"
     ]
    }
   ],
   "source": [
    "print(indexd_bundles[0])"
   ]
  },
  {
   "cell_type": "markdown",
   "metadata": {},
   "source": [
    "### Generating a file manifest\n",
    "\n",
    "We'll now make a file manifest that uses a constrained vocabulary of our design."
   ]
  },
  {
   "cell_type": "code",
   "execution_count": 11,
   "metadata": {},
   "outputs": [],
   "source": [
    "def bundle_to_flat(bundle):\n",
    "    dos_base = \"https://dos.bionimbus.org/ga4gh/dos/v1/dataobjects\"\n",
    "    alignment = {}\n",
    "    index = {}\n",
    "    alignment_metadata = bundle[0]['data']['submitted_aligned_reads'][0]\n",
    "    index_metadata = bundle[1]['data']['aligned_reads_index'][0]\n",
    "    alignment_indexd = bundle[3]\n",
    "    index_indexd = bundle[2]\n",
    "    alignment['gsurl'] = filter(lambda x: 'gs://' in x, alignment_indexd['urls'])[0]\n",
    "    alignment['s3url'] = filter(lambda x: 's3://' in x, alignment_indexd['urls'])[0]\n",
    "    alignment['name'] = alignment_metadata['file_name']\n",
    "    alignment['dosurl'] = \"{}/{}\".format(dos_base, alignment_indexd['did'])\n",
    "    alignment['updated_datetime'] = alignment_metadata['updated_datetime']\n",
    "    alignment['created_datetime'] = alignment_metadata['created_datetime']\n",
    "    alignment['md5sum'] = alignment_metadata['md5sum']\n",
    "    alignment['size'] = alignment_metadata['file_size']\n",
    "    alignment['did'] = alignment_indexd['did']\n",
    "    index['gsurl'] = filter(lambda x: 'gs://' in x, index_indexd['urls'])[0]\n",
    "    index['s3url'] = filter(lambda x: 's3://' in x, index_indexd['urls'])[0]\n",
    "    index['dosurl'] = \"{}/{}\".format(dos_base, index_indexd['did'])\n",
    "    index['name'] = index_metadata['file_name']\n",
    "    index['updated_datetime'] = index_metadata['updated_datetime']\n",
    "    index['created_datetime'] = index_metadata['created_datetime']\n",
    "    index['md5sum'] = index_metadata['md5sum']\n",
    "    index['size'] = index_metadata['file_size']\n",
    "    index['did'] = index_indexd['did']\n",
    "    return alignment, index, bundle\n",
    "\n",
    "flattened_bundles = [bundle_to_flat(b) for b in indexd_bundles]"
   ]
  },
  {
   "cell_type": "markdown",
   "metadata": {},
   "source": [
    "We now have a minimalistic file listing for each item that can be used to index easily."
   ]
  },
  {
   "cell_type": "code",
   "execution_count": 12,
   "metadata": {},
   "outputs": [
    {
     "data": {
      "text/plain": [
       "{'created_datetime': u'2018-01-30T21:47:17.975531+00:00',\n",
       " 'did': u'16664d78-b05e-56d3-8589-7d155eb2b3ef',\n",
       " 'dosurl': 'https://dos.bionimbus.org/ga4gh/dos/v1/dataobjects/16664d78-b05e-56d3-8589-7d155eb2b3ef',\n",
       " 'gsurl': u'gs://cgp-commons-multi-region-public/topmed_open_access/a4e58dc1-3425-54cf-bbe7-64dc01679da3/NWD319341.recab.cram.crai',\n",
       " 'md5sum': u'c5fd2b9973f68840a4d9f155376d009a',\n",
       " 'name': u'NWD319341.recab.cram.crai',\n",
       " 's3url': u's3://cgp-commons-public/topmed_open_access/a4e58dc1-3425-54cf-bbe7-64dc01679da3/NWD319341.recab.cram.crai',\n",
       " 'size': 1429317,\n",
       " 'updated_datetime': u'2018-04-14T19:57:36.324661+00:00'}"
      ]
     },
     "execution_count": 12,
     "metadata": {},
     "output_type": "execute_result"
    }
   ],
   "source": [
    "flattened_bundles[0][1]"
   ]
  },
  {
   "cell_type": "markdown",
   "metadata": {},
   "source": [
    "## Going for more metadata\n",
    "\n",
    "The metadata we have collected so far gives us what is necessary to access files, however, other metadata may be hosted by the platform so we should check on it.\n",
    "\n",
    "In particular, the alignment contained a read group that was described in a sample. We would like to provide these publicly available metadata in another flat dictionary.\n"
   ]
  },
  {
   "cell_type": "code",
   "execution_count": 13,
   "metadata": {},
   "outputs": [
    {
     "name": "stdout",
     "output_type": "stream",
     "text": [
      "[{u'type': u'read_group', u'id': u'337a3f79-2c69-4553-b887-16360d693254'}, {u'type': u'aligned_reads_index', u'id': u'28264de4-93b3-44ba-9a0a-b8a45a4a1a22'}, {u'type': u'alignment_workflow', u'id': u'eb0dd251-f364-4085-9c21-a4a995e0fa15'}, {u'type': u'core_metadata', u'id': u'ea7a44f2-6edc-4f59-85ae-2830bec0e9a4'}]\n"
     ]
    }
   ],
   "source": [
    "print(alignments[0]['data']['submitted_aligned_reads'][0]['_links'])"
   ]
  },
  {
   "cell_type": "code",
   "execution_count": 14,
   "metadata": {},
   "outputs": [],
   "source": [
    "core_metadata_ids = []\n",
    "\n",
    "for alignment in alignments:\n",
    "    for link in alignment['data']['submitted_aligned_reads'][0]['_links']:\n",
    "        if link['type'] == 'core_metadata':\n",
    "            core_metadata_ids.append(link['id'])"
   ]
  },
  {
   "cell_type": "code",
   "execution_count": 15,
   "metadata": {},
   "outputs": [
    {
     "data": {
      "text/plain": [
       "{u'data': {u'core_metadata': [{u'contributor': u'Broad',\n",
       "    u'coverage': u'US',\n",
       "    u'creator': u'Francisco Ortuno',\n",
       "    u'data_type': u'WGS',\n",
       "    u'date': u'04/13/18',\n",
       "    u'description': u'Aligned reads for NWD319341 sample',\n",
       "    u'format': u'CRAM',\n",
       "    u'language': u'en-US',\n",
       "    u'project_id': u'topmed-public',\n",
       "    u'relation': u'Uchicago',\n",
       "    u'rights': u'open access',\n",
       "    u'source': u'HapMap',\n",
       "    u'subject': u'sequencing',\n",
       "    u'submitter_id': u'NWD319341-cram-core-metadata',\n",
       "    u'title': u'NWD319341 CRAM File'}]}}"
      ]
     },
     "execution_count": 15,
     "metadata": {},
     "output_type": "execute_result"
    }
   ],
   "source": [
    "query = \"\"\"\n",
    "query CoreMetadata ($id: String) \n",
    "    {\n",
    "     core_metadata(id: $id) {\n",
    "          description\n",
    "          data_type\n",
    "          rights\n",
    "          format\n",
    "          creator\n",
    "          contributor\n",
    "          submitter_id\n",
    "          language\n",
    "          relation\n",
    "          source\n",
    "          coverage\n",
    "          date\n",
    "          title\n",
    "          project_id\n",
    "          subject\n",
    "     }\n",
    "    }\n",
    "\n",
    "\"\"\"\n",
    "dcp.query_api(query, {'id': 'ea7a44f2-6edc-4f59-85ae-2830bec0e9a4'})"
   ]
  },
  {
   "cell_type": "code",
   "execution_count": 16,
   "metadata": {},
   "outputs": [
    {
     "name": "stdout",
     "output_type": "stream",
     "text": [
      "CPU times: user 2.95 s, sys: 88 ms, total: 3.04 s\n",
      "Wall time: 43.4 s\n"
     ]
    }
   ],
   "source": [
    "pages = [{'id': x} for x in core_metadata_ids]\n",
    "%time core_metadata = [dcp.query_api(query, page) for page in pages]"
   ]
  },
  {
   "cell_type": "code",
   "execution_count": 17,
   "metadata": {},
   "outputs": [],
   "source": [
    "flat_core_metadata = [x['data']['core_metadata'][0] for x in core_metadata]"
   ]
  },
  {
   "cell_type": "markdown",
   "metadata": {},
   "source": [
    "### Getting Sample metadata\n",
    "\n",
    "Since the aliquot used for the index and alignment are the same, we can get unified bundle metadata that way."
   ]
  },
  {
   "cell_type": "code",
   "execution_count": 18,
   "metadata": {},
   "outputs": [
    {
     "name": "stdout",
     "output_type": "stream",
     "text": [
      "CPU times: user 2.8 s, sys: 68 ms, total: 2.86 s\n",
      "Wall time: 1min 8s\n"
     ]
    }
   ],
   "source": [
    "query = \"\"\"\n",
    "query ReadGroupLinks ($id: String) \n",
    "    {\n",
    "     read_group(id: $id) {\n",
    "     _links {\n",
    "       type\n",
    "       id\n",
    "     }\n",
    "     }\n",
    "    }\n",
    "\n",
    "\"\"\"\n",
    "\n",
    "read_group_ids = []\n",
    "\n",
    "for alignment in alignments:\n",
    "    for link in alignment['data']['submitted_aligned_reads'][0]['_links']:\n",
    "        if link['type'] == 'read_group':\n",
    "            read_group_ids.append(link['id'])\n",
    "            \n",
    "%time read_groups = [dcp.query_api(query, {'id': x}) for x in read_group_ids]"
   ]
  },
  {
   "cell_type": "code",
   "execution_count": 19,
   "metadata": {},
   "outputs": [
    {
     "name": "stdout",
     "output_type": "stream",
     "text": [
      "CPU times: user 3.12 s, sys: 68 ms, total: 3.19 s\n",
      "Wall time: 1min 10s\n"
     ]
    }
   ],
   "source": [
    "query = \"\"\"\n",
    "query Aliquots ($id: String) \n",
    "    {\n",
    "     aliquot(id: $id) {\n",
    "        type\n",
    "        project_id\n",
    "        submitter_id\n",
    "        aliquot_quantity\n",
    "        aliquot_volume\n",
    "        amount\n",
    "        analyte_isolation_batch_id\n",
    "        analyte_isolation_date\n",
    "        analyte_isolation_method\n",
    "        analyte_type\n",
    "        concentration\n",
    "        exclude\n",
    "        exclusion_criteria\n",
    "        experiment_batch_id\n",
    "        experiment_date\n",
    "        experimental_strategy\n",
    "         _links {\n",
    "           type\n",
    "           id\n",
    "         }\n",
    "     }\n",
    "    }\n",
    "\n",
    "\"\"\"\n",
    "\n",
    "aliquot_ids = []\n",
    "\n",
    "for read_group in read_groups:\n",
    "    for link in read_group['data']['read_group'][0]['_links']:\n",
    "        if link['type'] == 'aliquot':\n",
    "            aliquot_ids.append(link['id'])\n",
    "            \n",
    "%time aliquots = [dcp.query_api(query, {'id': x}) for x in aliquot_ids]"
   ]
  },
  {
   "cell_type": "code",
   "execution_count": 20,
   "metadata": {},
   "outputs": [
    {
     "name": "stdout",
     "output_type": "stream",
     "text": [
      "CPU times: user 3.05 s, sys: 124 ms, total: 3.17 s\n",
      "Wall time: 46.4 s\n"
     ]
    }
   ],
   "source": [
    "query = \"\"\"\n",
    "query SampleMetadata ($id: String) \n",
    "    {\n",
    "     sample(id: $id) {\n",
    "        id\n",
    "        type\n",
    "        project_id\n",
    "        submitter_id\n",
    "        autolysis_score\n",
    "        biospecimen_anatomic_site\n",
    "        biospecimen_anatomic_site_detail\n",
    "        biospecimen_anatomic_site_uberon_id\n",
    "        biospecimen_anatomic_site_uberon_term\n",
    "        biospecimen_physical_site\n",
    "        biospecimen_type\n",
    "        collection_kit\n",
    "        collection_site\n",
    "        composition\n",
    "        current_weight\n",
    "        freezing_method\n",
    "        hours_to_collection\n",
    "        hours_to_sample_procurement\n",
    "        internal_notes\n",
    "        is_ffpe\n",
    "        method_of_sample_procurement\n",
    "        oct_embedded\n",
    "        pathology_notes\n",
    "        preservation_method\n",
    "        prosector_notes\n",
    "        sample_type\n",
    "        tissue_type\n",
    "     }\n",
    "    }\n",
    "\n",
    "\"\"\"\n",
    "\n",
    "sample_ids = []\n",
    "\n",
    "for aliquot in aliquots:\n",
    "    for link in aliquot['data']['aliquot'][0]['_links']:\n",
    "        if link['type'] == 'sample':\n",
    "            sample_ids.append(link['id'])\n",
    "\n",
    "%time samples = [dcp.query_api(query, {'id': x}) for x in sample_ids]"
   ]
  },
  {
   "cell_type": "markdown",
   "metadata": {},
   "source": [
    "### Flatten Aliquot and Sample Metadata and Add to bundle\n",
    "\n",
    "Now that we have some useful metadata for the bundle, we can serialize it so it can be easily loaded elsewhere."
   ]
  },
  {
   "cell_type": "code",
   "execution_count": 21,
   "metadata": {},
   "outputs": [],
   "source": [
    "flattened_aliquots = []\n",
    "for aliquot in aliquots:\n",
    "    aliquot = aliquot['data']['aliquot'][0]\n",
    "    del aliquot['_links']\n",
    "    flattened_aliquots.append(aliquot)"
   ]
  },
  {
   "cell_type": "code",
   "execution_count": 22,
   "metadata": {},
   "outputs": [
    {
     "data": {
      "text/plain": [
       "{u'aliquot_quantity': None,\n",
       " u'aliquot_volume': None,\n",
       " u'amount': None,\n",
       " u'analyte_isolation_batch_id': None,\n",
       " u'analyte_isolation_date': None,\n",
       " u'analyte_isolation_method': None,\n",
       " u'analyte_type': u'DNA',\n",
       " u'concentration': None,\n",
       " u'exclude': None,\n",
       " u'exclusion_criteria': None,\n",
       " u'experiment_batch_id': None,\n",
       " u'experiment_date': None,\n",
       " u'experimental_strategy': None,\n",
       " u'project_id': u'topmed-public',\n",
       " u'submitter_id': u'NWD319341',\n",
       " u'type': u'aliquot'}"
      ]
     },
     "execution_count": 22,
     "metadata": {},
     "output_type": "execute_result"
    }
   ],
   "source": [
    "flattened_aliquots[0]"
   ]
  },
  {
   "cell_type": "code",
   "execution_count": 23,
   "metadata": {},
   "outputs": [
    {
     "data": {
      "text/plain": [
       "{u'autolysis_score': None,\n",
       " u'biospecimen_anatomic_site': None,\n",
       " u'biospecimen_anatomic_site_detail': None,\n",
       " u'biospecimen_anatomic_site_uberon_id': None,\n",
       " u'biospecimen_anatomic_site_uberon_term': None,\n",
       " u'biospecimen_physical_site': None,\n",
       " u'biospecimen_type': u'Normal - other',\n",
       " u'collection_kit': None,\n",
       " u'collection_site': None,\n",
       " u'composition': u'B-lymphocyte',\n",
       " u'current_weight': None,\n",
       " u'freezing_method': None,\n",
       " u'hours_to_collection': None,\n",
       " u'hours_to_sample_procurement': None,\n",
       " u'id': u'e450679d-0c17-467c-8fd5-dba1510f041b',\n",
       " u'internal_notes': None,\n",
       " u'is_ffpe': None,\n",
       " u'method_of_sample_procurement': None,\n",
       " u'oct_embedded': None,\n",
       " u'pathology_notes': None,\n",
       " u'preservation_method': None,\n",
       " u'project_id': u'topmed-public',\n",
       " u'prosector_notes': None,\n",
       " u'sample_type': None,\n",
       " u'submitter_id': u'NA19238_sample',\n",
       " u'tissue_type': None,\n",
       " u'type': u'sample'}"
      ]
     },
     "execution_count": 23,
     "metadata": {},
     "output_type": "execute_result"
    }
   ],
   "source": [
    "flattened_samples = []\n",
    "for sample in samples:\n",
    "    sample = sample['data']['sample'][0]\n",
    "    flattened_samples.append(sample)\n",
    "flattened_samples[0]"
   ]
  },
  {
   "cell_type": "code",
   "execution_count": 24,
   "metadata": {},
   "outputs": [
    {
     "data": {
      "text/plain": [
       "{u'autolysis_score': None,\n",
       " u'biospecimen_anatomic_site': None,\n",
       " u'biospecimen_anatomic_site_detail': None,\n",
       " u'biospecimen_anatomic_site_uberon_id': None,\n",
       " u'biospecimen_anatomic_site_uberon_term': None,\n",
       " u'biospecimen_physical_site': None,\n",
       " u'biospecimen_type': u'Normal - other',\n",
       " u'collection_kit': None,\n",
       " u'collection_site': None,\n",
       " u'composition': u'B-lymphocyte',\n",
       " u'current_weight': None,\n",
       " u'freezing_method': None,\n",
       " u'hours_to_collection': None,\n",
       " u'hours_to_sample_procurement': None,\n",
       " u'id': u'e450679d-0c17-467c-8fd5-dba1510f041b',\n",
       " u'internal_notes': None,\n",
       " u'is_ffpe': None,\n",
       " u'method_of_sample_procurement': None,\n",
       " u'oct_embedded': None,\n",
       " u'pathology_notes': None,\n",
       " u'preservation_method': None,\n",
       " u'project_id': u'topmed-public',\n",
       " u'prosector_notes': None,\n",
       " u'sample_type': None,\n",
       " u'submitter_id': u'NA19238_sample',\n",
       " u'tissue_type': None,\n",
       " u'type': u'sample'}"
      ]
     },
     "execution_count": 24,
     "metadata": {},
     "output_type": "execute_result"
    }
   ],
   "source": [
    "flattened_samples[0]"
   ]
  },
  {
   "cell_type": "code",
   "execution_count": 25,
   "metadata": {},
   "outputs": [],
   "source": [
    "bundles = zip(\n",
    "    flat_core_metadata,\n",
    "    flattened_aliquots,\n",
    "    flattened_samples,\n",
    "    [f[0] for f in flattened_bundles], # alignment\n",
    "    [f[1] for f in flattened_bundles]) # index"
   ]
  },
  {
   "cell_type": "code",
   "execution_count": 26,
   "metadata": {},
   "outputs": [
    {
     "data": {
      "text/plain": [
       "({u'contributor': u'Broad',\n",
       "  u'coverage': u'US',\n",
       "  u'creator': u'Francisco Ortuno',\n",
       "  u'data_type': u'WGS',\n",
       "  u'date': u'04/13/18',\n",
       "  u'description': u'Aligned reads for NWD319341 sample',\n",
       "  u'format': u'CRAM',\n",
       "  u'language': u'en-US',\n",
       "  u'project_id': u'topmed-public',\n",
       "  u'relation': u'Uchicago',\n",
       "  u'rights': u'open access',\n",
       "  u'source': u'HapMap',\n",
       "  u'subject': u'sequencing',\n",
       "  u'submitter_id': u'NWD319341-cram-core-metadata',\n",
       "  u'title': u'NWD319341 CRAM File'},\n",
       " {u'aliquot_quantity': None,\n",
       "  u'aliquot_volume': None,\n",
       "  u'amount': None,\n",
       "  u'analyte_isolation_batch_id': None,\n",
       "  u'analyte_isolation_date': None,\n",
       "  u'analyte_isolation_method': None,\n",
       "  u'analyte_type': u'DNA',\n",
       "  u'concentration': None,\n",
       "  u'exclude': None,\n",
       "  u'exclusion_criteria': None,\n",
       "  u'experiment_batch_id': None,\n",
       "  u'experiment_date': None,\n",
       "  u'experimental_strategy': None,\n",
       "  u'project_id': u'topmed-public',\n",
       "  u'submitter_id': u'NWD319341',\n",
       "  u'type': u'aliquot'},\n",
       " {u'autolysis_score': None,\n",
       "  u'biospecimen_anatomic_site': None,\n",
       "  u'biospecimen_anatomic_site_detail': None,\n",
       "  u'biospecimen_anatomic_site_uberon_id': None,\n",
       "  u'biospecimen_anatomic_site_uberon_term': None,\n",
       "  u'biospecimen_physical_site': None,\n",
       "  u'biospecimen_type': u'Normal - other',\n",
       "  u'collection_kit': None,\n",
       "  u'collection_site': None,\n",
       "  u'composition': u'B-lymphocyte',\n",
       "  u'current_weight': None,\n",
       "  u'freezing_method': None,\n",
       "  u'hours_to_collection': None,\n",
       "  u'hours_to_sample_procurement': None,\n",
       "  u'id': u'e450679d-0c17-467c-8fd5-dba1510f041b',\n",
       "  u'internal_notes': None,\n",
       "  u'is_ffpe': None,\n",
       "  u'method_of_sample_procurement': None,\n",
       "  u'oct_embedded': None,\n",
       "  u'pathology_notes': None,\n",
       "  u'preservation_method': None,\n",
       "  u'project_id': u'topmed-public',\n",
       "  u'prosector_notes': None,\n",
       "  u'sample_type': None,\n",
       "  u'submitter_id': u'NA19238_sample',\n",
       "  u'tissue_type': None,\n",
       "  u'type': u'sample'},\n",
       " {'created_datetime': u'2018-01-30T21:37:29.252021+00:00',\n",
       "  'did': u'73b12502-f60c-5f81-bd35-b0afc4678759',\n",
       "  'dosurl': 'https://dos.bionimbus.org/ga4gh/dos/v1/dataobjects/73b12502-f60c-5f81-bd35-b0afc4678759',\n",
       "  'gsurl': u'gs://cgp-commons-multi-region-public/topmed_open_access/a4e58dc1-3425-54cf-bbe7-64dc01679da3/NWD319341.recab.cram',\n",
       "  'md5sum': u'0044399fa0f9356565c8cc0234217338',\n",
       "  'name': u'NWD319341.recab.cram',\n",
       "  's3url': u's3://cgp-commons-public/topmed_open_access/a4e58dc1-3425-54cf-bbe7-64dc01679da3/NWD319341.recab.cram',\n",
       "  'size': 23438579833,\n",
       "  'updated_datetime': u'2018-04-15T21:54:21.545596+00:00'},\n",
       " {'created_datetime': u'2018-01-30T21:47:17.975531+00:00',\n",
       "  'did': u'16664d78-b05e-56d3-8589-7d155eb2b3ef',\n",
       "  'dosurl': 'https://dos.bionimbus.org/ga4gh/dos/v1/dataobjects/16664d78-b05e-56d3-8589-7d155eb2b3ef',\n",
       "  'gsurl': u'gs://cgp-commons-multi-region-public/topmed_open_access/a4e58dc1-3425-54cf-bbe7-64dc01679da3/NWD319341.recab.cram.crai',\n",
       "  'md5sum': u'c5fd2b9973f68840a4d9f155376d009a',\n",
       "  'name': u'NWD319341.recab.cram.crai',\n",
       "  's3url': u's3://cgp-commons-public/topmed_open_access/a4e58dc1-3425-54cf-bbe7-64dc01679da3/NWD319341.recab.cram.crai',\n",
       "  'size': 1429317,\n",
       "  'updated_datetime': u'2018-04-14T19:57:36.324661+00:00'})"
      ]
     },
     "execution_count": 26,
     "metadata": {},
     "output_type": "execute_result"
    }
   ],
   "source": [
    "bundles[0]"
   ]
  },
  {
   "cell_type": "markdown",
   "metadata": {},
   "source": [
    "## Serializing a bundle\n",
    "\n",
    "Serializing to JSON allows us to easily send these data elsewhere."
   ]
  },
  {
   "cell_type": "code",
   "execution_count": 46,
   "metadata": {},
   "outputs": [],
   "source": [
    "import json\n",
    "import os\n",
    "def write_bundle_json(bundle, bundle_id):\n",
    "    try:\n",
    "        os.mkdir(bundle_id, 0755);\n",
    "    except Exception as e:\n",
    "        print(str(e))\n",
    "    with open('{}/metadata.json'.format(bundle_id), 'w') as outfile:\n",
    "        json.dump(bundle[0], outfile)\n",
    "    with open('{}/aliquot.json'.format(bundle_id), 'w') as outfile:\n",
    "        json.dump(bundle[0], outfile)\n",
    "    with open('{}/sample.json'.format(bundle_id), 'w') as outfile:\n",
    "        json.dump(bundle[0], outfile)\n",
    "    with open('{}/manifest.json'.format(bundle_id), 'w') as outfile:\n",
    "        manifest = [bundle[3], bundle[4]]\n",
    "        json.dump(manifest, outfile)"
   ]
  },
  {
   "cell_type": "code",
   "execution_count": 47,
   "metadata": {},
   "outputs": [
    {
     "name": "stdout",
     "output_type": "stream",
     "text": [
      "[Errno 17] File exists: 'test-bundle'\n"
     ]
    }
   ],
   "source": [
    "write_bundle_json(bundles[0], 'test-bundle')"
   ]
  },
  {
   "cell_type": "code",
   "execution_count": 48,
   "metadata": {},
   "outputs": [
    {
     "name": "stdout",
     "output_type": "stream",
     "text": [
      "aliquot.json  manifest.json  metadata.json  sample.json\n",
      "[{\"dosurl\": \"https://dos.bionimbus.org/ga4gh/dos/v1/dataobjects/73b12502-f60c-5f81-bd35-b0afc4678759\", \"name\": \"NWD319341.recab.cram\", \"updated_datetime\": \"2018-04-15T21:54:21.545596+00:00\", \"created_datetime\": \"2018-01-30T21:37:29.252021+00:00\", \"md5sum\": \"0044399fa0f9356565c8cc0234217338\", \"s3url\": \"s3://cgp-commons-public/topmed_open_access/a4e58dc1-3425-54cf-bbe7-64dc01679da3/NWD319341.recab.cram\", \"did\": \"73b12502-f60c-5f81-bd35-b0afc4678759\", \"gsurl\": \"gs://cgp-commons-multi-region-public/topmed_open_access/a4e58dc1-3425-54cf-bbe7-64dc01679da3/NWD319341.recab.cram\", \"size\": 23438579833}, {\"dosurl\": \"https://dos.bionimbus.org/ga4gh/dos/v1/dataobjects/16664d78-b05e-56d3-8589-7d155eb2b3ef\", \"name\": \"NWD319341.recab.cram.crai\", \"updated_datetime\": \"2018-04-14T19:57:36.324661+00:00\", \"created_datetime\": \"2018-01-30T21:47:17.975531+00:00\", \"md5sum\": \"c5fd2b9973f68840a4d9f155376d009a\", \"s3url\": \"s3://cgp-commons-public/topmed_open_access/a4e58dc1-3425-54cf-bbe7-64dc01679da3/NWD319341.recab.cram.crai\", \"did\": \"16664d78-b05e-56d3-8589-7d155eb2b3ef\", \"gsurl\": \"gs://cgp-commons-multi-region-public/topmed_open_access/a4e58dc1-3425-54cf-bbe7-64dc01679da3/NWD319341.recab.cram.crai\", \"size\": 1429317}]"
     ]
    }
   ],
   "source": [
    "!ls test-bundle\n",
    "!cat test-bundle/manifest.json"
   ]
  },
  {
   "cell_type": "markdown",
   "metadata": {},
   "source": [
    "## Serializing them all\n",
    "\n",
    "We'll create two serialization models, one will generate a single JSON that includes all of the file manifests and metadata. This could then be easily parsed and iterated over to regenerate an index.\n",
    "\n",
    "Let's name the fields of the items (instead of providing an array) so that downstream parsers can more easily introspect on the contents.\n",
    "\n",
    "To uniquely identify each bundle, we'll add a bundle_id."
   ]
  },
  {
   "cell_type": "code",
   "execution_count": 50,
   "metadata": {},
   "outputs": [],
   "source": [
    "import uuid\n",
    "\n",
    "json_bundles = [{\n",
    "    'bundle_uuid': str(uuid.uuid4()),\n",
    "    'core_metadata': b[0],\n",
    "    'aliquot': b[1],\n",
    "    'sample': b[2],\n",
    "    'manifest': [b[3], b[4]]} for b in bundles]\n",
    "\n",
    "with open('topmed-public.json', 'w') as outfile:\n",
    "    json.dump(json_bundles, outfile)\n",
    "\n",
    "# It's less than 400Kb"
   ]
  },
  {
   "cell_type": "markdown",
   "metadata": {},
   "source": [
    "## Deserialization\n",
    "\n",
    "Now that we have a dataset, we might imagine submitting them one by one to the DSS pltaform.\n",
    "\n",
    "To do this, we'll need to load the file we just created and iterate over the items."
   ]
  },
  {
   "cell_type": "code",
   "execution_count": 51,
   "metadata": {},
   "outputs": [
    {
     "name": "stdout",
     "output_type": "stream",
     "text": [
      "DNA\n",
      "107\n",
      "gs://cgp-commons-multi-region-public/topmed_open_access/a4e58dc1-3425-54cf-bbe7-64dc01679da3/NWD319341.recab.cram\n",
      "gs://cgp-commons-multi-region-public/topmed_open_access/6a19bc32-ddc5-55b7-9315-224331f4f1a0/NWD991001.recab.cram\n",
      "gs://cgp-commons-multi-region-public/topmed_open_access/4fc383f9-2c21-599d-aa7d-ea1be7e8fc3e/NWD968809.recab.cram\n",
      "gs://cgp-commons-multi-region-public/topmed_open_access/b2318775-7d17-5e37-857d-f260d3772b19/NWD967078.recab.cram\n",
      "gs://cgp-commons-multi-region-public/topmed_open_access/9449321f-0ebd-5607-99b9-ba8f30a185ad/NWD953198.recab.cram\n",
      "gs://cgp-commons-multi-region-public/topmed_open_access/fab5eca7-0f49-586a-9bca-a66f2df4f173/NWD952432.recab.cram\n",
      "gs://cgp-commons-multi-region-public/topmed_open_access/a96950b9-eeb1-56f3-937f-f92c9f91eb7a/NWD929194.recab.cram\n",
      "gs://cgp-commons-multi-region-public/topmed_open_access/9b418a88-134c-5567-8340-94269c2b9e52/NWD918554.recab.cram\n",
      "gs://cgp-commons-multi-region-public/topmed_open_access/baae6014-5527-5dae-8f95-f6bff9b36ae0/NWD910953.recab.cram\n",
      "gs://cgp-commons-multi-region-public/topmed_open_access/c9b0fbff-c65d-59b6-b9f0-4f2965de539a/NWD909656.recab.cram\n",
      "[u'dosurl', u'name', u'updated_datetime', u'created_datetime', u'md5sum', u's3url', u'did', u'gsurl', u'size']\n"
     ]
    }
   ],
   "source": [
    "topmed_public = {}\n",
    "\n",
    "with open('topmed-public.json', 'r') as infile:\n",
    "  topmed_public = json.load(infile)\n",
    "\n",
    "print(topmed_public[0]['aliquot']['analyte_type'])\n",
    "print(len(topmed_public))\n",
    "print(\"\\n\".join([x['manifest'][0]['gsurl'] for x in topmed_public][:10]))\n",
    "print(topmed_public[0]['manifest'][0].keys())"
   ]
  },
  {
   "cell_type": "markdown",
   "metadata": {},
   "source": [
    "## Using bdbags for serialization\n",
    "\n",
    "bdbags are a serialization technique we can leverage to make these data available. First, we'll make a bag for a single bundle."
   ]
  },
  {
   "cell_type": "code",
   "execution_count": 52,
   "metadata": {},
   "outputs": [
    {
     "data": {
      "text/plain": [
       "[{'filename': u'NWD319341.recab.cram.gsurl',\n",
       "  'length': 23438579833,\n",
       "  'md5': u'0044399fa0f9356565c8cc0234217338',\n",
       "  'url': u'gs://cgp-commons-multi-region-public/topmed_open_access/a4e58dc1-3425-54cf-bbe7-64dc01679da3/NWD319341.recab.cram'},\n",
       " {'filename': u'NWD319341.recab.cram.crai.gsurl',\n",
       "  'length': 1429317,\n",
       "  'md5': u'c5fd2b9973f68840a4d9f155376d009a',\n",
       "  'url': u'gs://cgp-commons-multi-region-public/topmed_open_access/a4e58dc1-3425-54cf-bbe7-64dc01679da3/NWD319341.recab.cram.crai'},\n",
       " {'filename': u'NWD319341.recab.cram.s3url',\n",
       "  'length': 23438579833,\n",
       "  'md5': u'0044399fa0f9356565c8cc0234217338',\n",
       "  'url': u's3://cgp-commons-public/topmed_open_access/a4e58dc1-3425-54cf-bbe7-64dc01679da3/NWD319341.recab.cram'},\n",
       " {'filename': u'NWD319341.recab.cram.crai.s3url',\n",
       "  'length': 1429317,\n",
       "  'md5': u'c5fd2b9973f68840a4d9f155376d009a',\n",
       "  'url': u's3://cgp-commons-public/topmed_open_access/a4e58dc1-3425-54cf-bbe7-64dc01679da3/NWD319341.recab.cram.crai'}]"
      ]
     },
     "execution_count": 52,
     "metadata": {},
     "output_type": "execute_result"
    }
   ],
   "source": [
    "from bdbag import bdbag_api as bdbag\n",
    "\n",
    "def manifest_item_to_bd_item(mitem, urlselector):\n",
    "    bd_item = {}\n",
    "    # We have to pick a URL, should we request a fix upstream?\n",
    "    # We can include the other URLs as metadata...\n",
    "    bd_item['url'] = mitem[urlselector]\n",
    "    bd_item['length'] = mitem['size']\n",
    "    # FIXME bdbag seems to support only one item per filename\n",
    "    # and so we append the protocol so that all the urls\n",
    "    # make it to the fetch.txt\n",
    "    bd_item['filename'] = mitem['name'] + '.' + urlselector\n",
    "    bd_item['md5'] = mitem['md5sum']\n",
    "    return bd_item\n",
    "\n",
    "# We'll just include the same information twice so that all\n",
    "# URLs are present. This does have the effect that blindly\n",
    "# fetching the bag will download duplicate data.\n",
    "gs_manifest = [manifest_item_to_bd_item(x, 'gsurl') for x in json_bundles[0]['manifest']]\n",
    "s3_manifest = [manifest_item_to_bd_item(x, 's3url') for x in json_bundles[0]['manifest']]\n",
    "remote_file_manifest = gs_manifest + s3_manifest\n",
    "remote_file_manifest"
   ]
  },
  {
   "cell_type": "markdown",
   "metadata": {},
   "source": [
    "Here we'll add DOS URLs to the manifest as well, so the original indexd record can be retrieved when an id is available."
   ]
  },
  {
   "cell_type": "code",
   "execution_count": 53,
   "metadata": {},
   "outputs": [
    {
     "data": {
      "text/plain": [
       "\"https://dos.bionimbus.org/ga4gh/dos/v1/dataobjects/{u'updated_date': u'2018-04-15T22:29:19.458472', u'baseid': u'6fa56c4b-053b-4735-bcd7-79e0dc2cada0', u'form': u'object', u'did': u'73b12502-f60c-5f81-bd35-b0afc4678759', u'file_name': None, u'rev': u'c8287717', u'acl': [u'topmed', u'public'], u'urls_metadata': {u's3://cgp-commons-public/topmed_open_access/a4e58dc1-3425-54cf-bbe7-64dc01679da3/NWD319341.recab.cram': {}, u'gs://cgp-commons-multi-region-public/topmed_open_access/a4e58dc1-3425-54cf-bbe7-64dc01679da3/NWD319341.recab.cram': {}}, u'version': None, u'urls': [u'gs://cgp-commons-multi-region-public/topmed_open_access/a4e58dc1-3425-54cf-bbe7-64dc01679da3/NWD319341.recab.cram', u's3://cgp-commons-public/topmed_open_access/a4e58dc1-3425-54cf-bbe7-64dc01679da3/NWD319341.recab.cram'], u'created_date': u'2018-04-15T22:29:19.458462', u'hashes': {u'md5': u'0044399fa0f9356565c8cc0234217338'}, u'size': 23438579833, u'metadata': {}}\""
      ]
     },
     "execution_count": 53,
     "metadata": {},
     "output_type": "execute_result"
    }
   ],
   "source": [
    "def indexd_to_dos_url(indexd_doc):\n",
    "    dos_base = \"https://dos.bionimbus.org/ga4gh/dos/v1/dataobjects\"\n",
    "    dos_url = \"{}/{}\".format(dos_base, indexd_doc)\n",
    "    return dos_url\n",
    "\n",
    "def manifest_item_to_dos_manifest(mitem):\n",
    "    bd_item = manifest_item_to_bd_item(mitem, 's3url')\n",
    "    bd_item['url'] = indexd_to_dos_url(mitem['did'])\n",
    "    # kludge to remove our name padding\n",
    "    bd_item['filename'] = mitem['name']\n",
    "    return bd_item\n",
    "\n",
    "indexd_to_dos_url(indexd_bundles[0][3])"
   ]
  },
  {
   "cell_type": "code",
   "execution_count": 54,
   "metadata": {},
   "outputs": [],
   "source": [
    "def manifest_to_bdmanifest(manifest):\n",
    "    gs_manifest = [manifest_item_to_bd_item(x, 'gsurl') for x in manifest]\n",
    "    s3_manifest = [manifest_item_to_bd_item(x, 's3url') for x in manifest]\n",
    "    dos_manifest = [manifest_item_to_dos_manifest(x) for x in manifest]\n",
    "    remote_file_manifest = gs_manifest + s3_manifest + dos_manifest\n",
    "    return remote_file_manifest\n",
    "\n",
    "def bundle_to_bag(bundle, bundle_id):\n",
    "    try:\n",
    "        os.mkdir(bundle_id, 0755);\n",
    "    except Exception as e:\n",
    "        print(str(e))\n",
    "    # its a peculiarity of the client to need to write a file\n",
    "    manifest_path = 'remote-file-manifest.json'\n",
    "    with open(manifest_path, 'w') as outfile:\n",
    "        json.dump(manifest_to_bdmanifest(bundle['manifest']), outfile)\n",
    "    return bdbag.make_bag(\n",
    "        bundle_id,\n",
    "        metadata=bundle,\n",
    "        remote_file_manifest=manifest_path)"
   ]
  },
  {
   "cell_type": "code",
   "execution_count": 55,
   "metadata": {},
   "outputs": [
    {
     "name": "stdout",
     "output_type": "stream",
     "text": [
      "[Errno 17] File exists: 'test-bag'\n"
     ]
    },
    {
     "data": {
      "text/plain": [
       "<bdbag.bdbagit.BDBag at 0x7f88f6dde650>"
      ]
     },
     "execution_count": 55,
     "metadata": {},
     "output_type": "execute_result"
    }
   ],
   "source": [
    "bundle_to_bag(json_bundles[0], 'test-bag')\n"
   ]
  },
  {
   "cell_type": "code",
   "execution_count": 36,
   "metadata": {},
   "outputs": [
    {
     "name": "stdout",
     "output_type": "stream",
     "text": [
      "bag-info.txt  data\t manifest-md5.txt     tagmanifest-sha256.txt\n",
      "bagit.txt     fetch.txt  tagmanifest-md5.txt\n",
      "https://dos.bionimbus.org/ga4gh/dos/v1/dataobjects/73b12502-f60c-5f81-bd35-b0afc4678759\t23438579833\tdata/NWD319341.recab.cram\n",
      "https://dos.bionimbus.org/ga4gh/dos/v1/dataobjects/16664d78-b05e-56d3-8589-7d155eb2b3ef\t1429317\tdata/NWD319341.recab.cram.crai\n",
      "gs://cgp-commons-multi-region-public/topmed_open_access/a4e58dc1-3425-54cf-bbe7-64dc01679da3/NWD319341.recab.cram.crai\t1429317\tdata/NWD319341.recab.cram.crai.gsurl\n",
      "s3://cgp-commons-public/topmed_open_access/a4e58dc1-3425-54cf-bbe7-64dc01679da3/NWD319341.recab.cram.crai\t1429317\tdata/NWD319341.recab.cram.crai.s3url\n",
      "gs://cgp-commons-multi-region-public/topmed_open_access/a4e58dc1-3425-54cf-bbe7-64dc01679da3/NWD319341.recab.cram\t23438579833\tdata/NWD319341.recab.cram.gsurl\n",
      "s3://cgp-commons-public/topmed_open_access/a4e58dc1-3425-54cf-bbe7-64dc01679da3/NWD319341.recab.cram\t23438579833\tdata/NWD319341.recab.cram.s3url\n"
     ]
    }
   ],
   "source": [
    "!ls test-bag\n",
    "!cat test-bag/fetch.txt"
   ]
  },
  {
   "cell_type": "markdown",
   "metadata": {},
   "source": [
    "## Bag the whole dataset\n",
    "\n",
    "Now that we can bag a single bundle, we can make a bag that includes all of the topmed 107 with cloud URLs and metadata.\n",
    "\n",
    "This is meant to serve as a demonstration to help us determine how best to relate fetch items to the metadata results."
   ]
  },
  {
   "cell_type": "code",
   "execution_count": 58,
   "metadata": {},
   "outputs": [],
   "source": [
    "def make_bag_of_bundles(bundle_list, bag_id):\n",
    "    try:\n",
    "        os.mkdir(bag_id, 0755);\n",
    "    except Exception as e:\n",
    "        print(str(e))\n",
    "    manifest_path = 'remote-file-manifest.json'\n",
    "    with open(manifest_path, 'w') as outfile:\n",
    "        manifest = reduce(lambda x, y: x + y, [manifest_to_bdmanifest(x['manifest']) for x in bundle_list])\n",
    "        json.dump(manifest, outfile)\n",
    "    # FIXME bdbag seems to act on our top level keys\n",
    "    # so we add a 'metadata' top level key to avoid errors\n",
    "    return bdbag.make_bag(\n",
    "        bag_id,\n",
    "        metadata={'metadata': bundle_list},\n",
    "        remote_file_manifest=manifest_path)"
   ]
  },
  {
   "cell_type": "code",
   "execution_count": 59,
   "metadata": {},
   "outputs": [
    {
     "data": {
      "text/plain": [
       "<bdbag.bdbagit.BDBag at 0x7f88f6d55e50>"
      ]
     },
     "execution_count": 59,
     "metadata": {},
     "output_type": "execute_result"
    }
   ],
   "source": [
    "make_bag_of_bundles(json_bundles, 'topmed-public')"
   ]
  },
  {
   "cell_type": "code",
   "execution_count": 60,
   "metadata": {},
   "outputs": [
    {
     "name": "stdout",
     "output_type": "stream",
     "text": [
      "bag-info.txt  data\t manifest-md5.txt     tagmanifest-sha256.txt\n",
      "bagit.txt     fetch.txt  tagmanifest-md5.txt\n",
      "https://dos.bionimbus.org/ga4gh/dos/v1/dataobjects/7733b6cb-811f-5839-a5dc-ac4262ded126\t37501686827\tdata/NWD100953.recab.cram\n",
      "https://dos.bionimbus.org/ga4gh/dos/v1/dataobjects/13d85741-e634-5f51-b50f-a0d0f166cfe8\t2201638\tdata/NWD100953.recab.cram.crai\n",
      "gs://cgp-commons-multi-region-public/topmed_open_access/44a8837b-4456-5709-b56b-54e23000f13a/NWD100953.recab.cram.crai\t2201638\tdata/NWD100953.recab.cram.crai.gsurl\n",
      "s3://cgp-commons-public/topmed_open_access/44a8837b-4456-5709-b56b-54e23000f13a/NWD100953.recab.cram.crai\t2201638\tdata/NWD100953.recab.cram.crai.s3url\n",
      "gs://cgp-commons-multi-region-public/topmed_open_access/44a8837b-4456-5709-b56b-54e23000f13a/NWD100953.recab.cram\t37501686827\tdata/NWD100953.recab.cram.gsurl\n",
      "s3://cgp-commons-public/topmed_open_access/44a8837b-4456-5709-b56b-54e23000f13a/NWD100953.recab.cram\t37501686827\tdata/NWD100953.recab.cram.s3url\n",
      "https://dos.bionimbus.org/ga4gh/dos/v1/dataobjects/8e677890-cb36-5e08-8d73-ce97959708bc\t20628437760\tdata/NWD119836.recab.cram\n",
      "https://dos.bionimbus.org/ga4gh/dos/v1/dataobjects/71146898-d908-5c4c-96f4-59b102b6b228\t1372830\tdata/NWD119836.recab.cram.crai\n",
      "gs://cgp-commons-multi-region-public/topmed_open_access/204cf1bd-1477-57e6-880c-1b863edac627/NWD119836.recab.cram.crai\t1372830\tdata/NWD119836.recab.cram.crai.gsurl\n",
      "s3://cgp-commons-public/topmed_open_access/204cf1bd-1477-57e6-880c-1b863edac627/NWD119836.recab.cram.crai\t1372830\tdata/NWD119836.recab.cram.crai.s3url\n"
     ]
    }
   ],
   "source": [
    "!ls topmed-public\n",
    "!head topmed-public/fetch.txt"
   ]
  },
  {
   "cell_type": "code",
   "execution_count": 61,
   "metadata": {},
   "outputs": [
    {
     "data": {
      "text/plain": [
       "'/home/david/git/dcp-demo/topmed-public.tgz'"
      ]
     },
     "execution_count": 61,
     "metadata": {},
     "output_type": "execute_result"
    }
   ],
   "source": [
    "bdbag.archive_bag('topmed-public', 'tgz')"
   ]
  },
  {
   "cell_type": "markdown",
   "metadata": {},
   "source": [
    "### Opening the bag from file\n",
    "\n",
    "More work needs to be demonstrated for accessing data in bdbags that are present in a cloud storage environment.\n",
    "\n",
    "For now, we'll simply demonstrate we can open the bag and reason about the metadata."
   ]
  },
  {
   "cell_type": "code",
   "execution_count": 62,
   "metadata": {},
   "outputs": [],
   "source": [
    "bdbag.validate_bag_structure('topmed-public')"
   ]
  },
  {
   "cell_type": "markdown",
   "metadata": {},
   "source": [
    "## Future Work\n",
    "\n",
    "How different is this process from the current export flow? What needs to be done to align the metadata so that we can use the export systems that exist?\n",
    "\n",
    "Should these queries be added as named fields and more support given to the gen3 graphql client?\n",
    "\n",
    "With a way of getting metadata and links to files and checksums, we can regenerate the metadata model in other systems.\n",
    "\n",
    "Improvements to the serialization model could include semantic versioning, addition of JSON-LD context, and creation of schematic representations of types.\n",
    "\n",
    "This should be used as a way to drive the serialization modes of the submissions API in sheepdog, as well as improve DSS ingestion capabilities. This code could be replaced with a few lines added to sheepdog.\n",
    "\n",
    "The GraphQL interface presents some interesting capabilities, especially when combining the results of analysis. If a workflow creates an analytic, making this available in some indexable form can reduce the amount of recomputation.\n",
    "\n",
    "The data generated by this notebook should be sufficient to load into the HCA DSS. It might be prudent to normalize the file manifest to look more like a DOS object, since indexd already presents this interface. This might allow DOS to be the interface for file manifests.\n",
    "\n",
    "The HCA concept of a bundle doesn't completely align with the DCP data model. This means that there will likely be manual work involved for each dataset onboarded for the short term.\n",
    "\n",
    "The azul indexer will have to be updated to support metadata on a project by project basis.\n",
    "\n",
    "Having a service we can simply post these bags to and start off the indexing are of interest.\n",
    "\n",
    "DOS Bundles are schema compliant, although some peculiarities of the metadata model deserve exploration. Automating data loading via the DOS interface seems like a reasonable step forward.\n",
    "\n",
    "The did's included in the internal manifest format represent what will be GUIDs for the provided platform."
   ]
  },
  {
   "cell_type": "code",
   "execution_count": null,
   "metadata": {},
   "outputs": [],
   "source": []
  }
 ],
 "metadata": {
  "anaconda-cloud": {},
  "kernelspec": {
   "display_name": "Python 2",
   "language": "python",
   "name": "python2"
  },
  "language_info": {
   "codemirror_mode": {
    "name": "ipython",
    "version": 2
   },
   "file_extension": ".py",
   "mimetype": "text/x-python",
   "name": "python",
   "nbconvert_exporter": "python",
   "pygments_lexer": "ipython2",
   "version": "2.7.13"
  }
 },
 "nbformat": 4,
 "nbformat_minor": 2
}
